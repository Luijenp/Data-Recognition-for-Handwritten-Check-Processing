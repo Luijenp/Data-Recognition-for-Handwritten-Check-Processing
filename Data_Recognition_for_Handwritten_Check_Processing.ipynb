{
  "nbformat": 4,
  "nbformat_minor": 0,
  "metadata": {
    "colab": {
      "provenance": []
    },
    "kernelspec": {
      "name": "python3",
      "display_name": "Python 3"
    },
    "language_info": {
      "name": "python"
    }
  },
  "cells": [
    {
      "cell_type": "markdown",
      "source": [
        "Import Libraries"
      ],
      "metadata": {
        "id": "jVCG4u59id-w"
      }
    },
    {
      "cell_type": "code",
      "source": [
        "import tensorflow as tf\n",
        "from tensorflow.keras.preprocessing.image import load_img, img_to_array\n",
        "import numpy as np\n",
        "import glob\n",
        "import os\n",
        "from tensorflow.keras import layers, models\n",
        "import matplotlib.pyplot as plt\n"
      ],
      "metadata": {
        "id": "u2E4D1rgijWX"
      },
      "execution_count": null,
      "outputs": []
    },
    {
      "cell_type": "markdown",
      "source": [
        "Loading MNIST Dataset"
      ],
      "metadata": {
        "id": "FJYnZXECiloB"
      }
    },
    {
      "cell_type": "code",
      "source": [
        "# Load and preprocess MNIST dataset\n",
        "(x_train, y_train), (x_test, y_test) = tf.keras.datasets.mnist.load_data()\n",
        "x_train = x_train / 255.0  # Normalize\n",
        "x_test = x_test / 255.0\n",
        "x_train = x_train.reshape(-1, 28, 28, 1)\n",
        "x_test = x_test.reshape(-1, 28, 28, 1)\n",
        "y_train = tf.keras.utils.to_categorical(y_train, 10)\n",
        "y_test = tf.keras.utils.to_categorical(y_test, 10)\n"
      ],
      "metadata": {
        "id": "9MVksGH-ipRc",
        "colab": {
          "base_uri": "https://localhost:8080/"
        },
        "outputId": "255d069c-7d7f-4333-8931-1d7824581722"
      },
      "execution_count": null,
      "outputs": [
        {
          "output_type": "stream",
          "name": "stdout",
          "text": [
            "Downloading data from https://storage.googleapis.com/tensorflow/tf-keras-datasets/mnist.npz\n",
            "\u001b[1m11490434/11490434\u001b[0m \u001b[32m━━━━━━━━━━━━━━━━━━━━\u001b[0m\u001b[37m\u001b[0m \u001b[1m0s\u001b[0m 0us/step\n"
          ]
        }
      ]
    },
    {
      "cell_type": "markdown",
      "source": [
        "Function to Load Real-World Data"
      ],
      "metadata": {
        "id": "EdKtNKE6iq7k"
      }
    },
    {
      "cell_type": "code",
      "source": [
        "# Function to load and preprocess images\n",
        "def load_images_from_directory(directory_path, target_size=(28, 28)):\n",
        "    images = []\n",
        "    for file_path in sorted(glob.glob(f\"{directory_path}/*.jpeg\")):\n",
        "        img = load_img(file_path, color_mode=\"grayscale\", target_size=target_size)\n",
        "        img_array = img_to_array(img) / 255.0  # Normalize\n",
        "        images.append(img_array)\n",
        "    return np.array(images)\n"
      ],
      "metadata": {
        "id": "NQFMvgj9iqZR"
      },
      "execution_count": null,
      "outputs": []
    },
    {
      "cell_type": "markdown",
      "source": [
        "Loading Real World Examples"
      ],
      "metadata": {
        "id": "TFyEm83viw0B"
      }
    },
    {
      "cell_type": "code",
      "source": [
        "# Update these paths based on Colab structure\n",
        "x_train_real_path = '/content/TrainSet/X'\n",
        "y_train_real_path = '/content/TrainSet/y'\n",
        "\n",
        "# Load real-world dataset (images)\n",
        "real_x_train = load_images_from_directory(x_train_real_path)\n",
        "real_x_train = real_x_train.reshape(-1, 28, 28, 1)  # Add channel dimension\n",
        "\n",
        "# Load real-world dataset (labels)\n",
        "def load_labels_from_directory(directory_path):\n",
        "    labels = []\n",
        "    for file_path in sorted(glob.glob(f\"{directory_path}/*.jpeg\")):\n",
        "        label = int(os.path.basename(file_path).split('_')[1].split('.')[0])  # Extract numeric label from filename\n",
        "        labels.append(label)\n",
        "    return np.array(labels)\n",
        "\n",
        "real_y_train = load_labels_from_directory(y_train_real_path)\n",
        "real_y_train = tf.keras.utils.to_categorical(real_y_train, num_classes=10)\n",
        "\n",
        "# Combine datasets\n",
        "x_train_combined = np.concatenate((x_train, real_x_train), axis=0)\n",
        "y_train_combined = np.concatenate((y_train, real_y_train), axis=0)\n",
        "\n",
        "#Define the CNN model\n",
        "model = models.Sequential([\n",
        "    layers.Conv2D(32, (3, 3), activation='relu', input_shape=(28, 28, 1)),\n",
        "    layers.MaxPooling2D((2, 2)),\n",
        "    layers.Conv2D(64, (3, 3), activation='relu'),\n",
        "    layers.MaxPooling2D((2, 2)),\n",
        "    layers.Flatten(),\n",
        "    layers.Dense(128, activation='relu'),\n",
        "    layers.Dense(10, activation='softmax')\n",
        "])\n",
        "\n",
        "model.compile(optimizer='adam',\n",
        "              loss='categorical_crossentropy',\n",
        "              metrics=['accuracy'])\n",
        "\n",
        "#Training the Model\n",
        "history = model.fit(x_train_combined, y_train_combined, epochs=5, batch_size=32, validation_data=(x_test, y_test))\n"
      ],
      "metadata": {
        "colab": {
          "base_uri": "https://localhost:8080/"
        },
        "id": "JB8FxWTxi0qq",
        "outputId": "85b6943e-c5c7-4071-a42a-08f795e13701"
      },
      "execution_count": null,
      "outputs": [
        {
          "output_type": "stream",
          "name": "stderr",
          "text": [
            "/usr/local/lib/python3.10/dist-packages/keras/src/layers/convolutional/base_conv.py:107: UserWarning: Do not pass an `input_shape`/`input_dim` argument to a layer. When using Sequential models, prefer using an `Input(shape)` object as the first layer in the model instead.\n",
            "  super().__init__(activity_regularizer=activity_regularizer, **kwargs)\n"
          ]
        },
        {
          "output_type": "stream",
          "name": "stdout",
          "text": [
            "Epoch 1/5\n",
            "\u001b[1m1875/1875\u001b[0m \u001b[32m━━━━━━━━━━━━━━━━━━━━\u001b[0m\u001b[37m\u001b[0m \u001b[1m81s\u001b[0m 42ms/step - accuracy: 0.9119 - loss: 0.2898 - val_accuracy: 0.9844 - val_loss: 0.0506\n",
            "Epoch 2/5\n",
            "\u001b[1m1875/1875\u001b[0m \u001b[32m━━━━━━━━━━━━━━━━━━━━\u001b[0m\u001b[37m\u001b[0m \u001b[1m70s\u001b[0m 35ms/step - accuracy: 0.9859 - loss: 0.0446 - val_accuracy: 0.9883 - val_loss: 0.0349\n",
            "Epoch 3/5\n",
            "\u001b[1m1875/1875\u001b[0m \u001b[32m━━━━━━━━━━━━━━━━━━━━\u001b[0m\u001b[37m\u001b[0m \u001b[1m80s\u001b[0m 34ms/step - accuracy: 0.9909 - loss: 0.0282 - val_accuracy: 0.9880 - val_loss: 0.0364\n",
            "Epoch 4/5\n",
            "\u001b[1m1875/1875\u001b[0m \u001b[32m━━━━━━━━━━━━━━━━━━━━\u001b[0m\u001b[37m\u001b[0m \u001b[1m64s\u001b[0m 34ms/step - accuracy: 0.9941 - loss: 0.0185 - val_accuracy: 0.9879 - val_loss: 0.0413\n",
            "Epoch 5/5\n",
            "\u001b[1m1875/1875\u001b[0m \u001b[32m━━━━━━━━━━━━━━━━━━━━\u001b[0m\u001b[37m\u001b[0m \u001b[1m82s\u001b[0m 34ms/step - accuracy: 0.9952 - loss: 0.0142 - val_accuracy: 0.9914 - val_loss: 0.0291\n"
          ]
        }
      ]
    },
    {
      "cell_type": "markdown",
      "source": [
        "Visualize Predictions"
      ],
      "metadata": {
        "id": "XS49zc30jBCV"
      }
    },
    {
      "cell_type": "code",
      "source": [
        "predictions = model.predict(x_test[:10])\n",
        "plt.figure(figsize=(10, 5))\n",
        "for i in range(10):\n",
        "    plt.subplot(2, 5, i+1)\n",
        "    plt.imshow(x_test[i].reshape(28, 28), cmap='gray')\n",
        "    plt.title(f\"Predicted: {np.argmax(predictions[i])}\\nActual: {np.argmax(y_test[i])}\")\n",
        "    plt.axis('off')\n",
        "plt.tight_layout()\n",
        "plt.show()\n",
        "\n",
        "\n",
        "#saving the trained model\n",
        "model.save('/content/check_recognition_model.h5')\n",
        "print(\"Model saved successfully!\")"
      ],
      "metadata": {
        "colab": {
          "base_uri": "https://localhost:8080/",
          "height": 566
        },
        "id": "EXpN6B0SjAz7",
        "outputId": "cde938da-d3a5-48ca-d8dc-2f6ac444de60"
      },
      "execution_count": null,
      "outputs": [
        {
          "output_type": "stream",
          "name": "stdout",
          "text": [
            "\u001b[1m1/1\u001b[0m \u001b[32m━━━━━━━━━━━━━━━━━━━━\u001b[0m\u001b[37m\u001b[0m \u001b[1m0s\u001b[0m 91ms/step\n"
          ]
        },
        {
          "output_type": "display_data",
          "data": {
            "text/plain": [
              "<Figure size 1000x500 with 10 Axes>"
            ],
            "image/png": "[encoded data removed]"
          },
          "metadata": {}
        },
        {
          "output_type": "stream",
          "name": "stderr",
          "text": [
            "WARNING:absl:You are saving your model as an HDF5 file via `model.save()` or `keras.saving.save_model(model)`. This file format is considered legacy. We recommend using instead the native Keras format, e.g. `model.save('my_model.keras')` or `keras.saving.save_model(model, 'my_model.keras')`. \n"
          ]
        },
        {
          "output_type": "stream",
          "name": "stdout",
          "text": [
            "Model saved successfully!\n"
          ]
        }
      ]
    },
    {
      "cell_type": "markdown",
      "source": [
        "Read New Check"
      ],
      "metadata": {
        "id": "5YJI5gh4pXu7"
      }
    },
    {
      "cell_type": "code",
      "source": [
        "# prompt: fix this codes output, i need it to display the correct digits of the follwing images\n",
        "\n",
        "import tensorflow as tf\n",
        "from tensorflow.keras.preprocessing.image import load_img, img_to_array\n",
        "import numpy as np\n",
        "import glob\n",
        "import os\n",
        "from tensorflow.keras import layers, models\n",
        "import matplotlib.pyplot as plt\n",
        "\n",
        "# Load and preprocess MNIST dataset\n",
        "(x_train, y_train), (x_test, y_test) = tf.keras.datasets.mnist.load_data()\n",
        "x_train = x_train / 255.0  # Normalize\n",
        "x_test = x_test / 255.0\n",
        "x_train = x_train.reshape(-1, 28, 28, 1)\n",
        "x_test = x_test.reshape(-1, 28, 28, 1)\n",
        "y_train = tf.keras.utils.to_categorical(y_train, 10)\n",
        "y_test = tf.keras.utils.to_categorical(y_test, 10)\n",
        "\n",
        "# Function to load and preprocess images\n",
        "def load_images_from_directory(directory_path, target_size=(28, 28)):\n",
        "    images = []\n",
        "    for file_path in sorted(glob.glob(f\"{directory_path}/*.jpeg\")):\n",
        "        img = load_img(file_path, color_mode=\"grayscale\", target_size=target_size)\n",
        "        img_array = img_to_array(img) / 255.0  # Normalize\n",
        "        images.append(img_array)\n",
        "    return np.array(images)\n",
        "\n",
        "# Update these paths based on Colab structure\n",
        "x_train_real_path = '/content/TrainSet/X'\n",
        "y_train_real_path = '/content/TrainSet/y'\n",
        "\n",
        "# Load real-world dataset (images)\n",
        "real_x_train = load_images_from_directory(x_train_real_path)\n",
        "real_x_train = real_x_train.reshape(-1, 28, 28, 1)  # Add channel dimension\n",
        "\n",
        "# Load real-world dataset (labels)\n",
        "def load_labels_from_directory(directory_path):\n",
        "    labels = []\n",
        "    for file_path in sorted(glob.glob(f\"{directory_path}/*.jpeg\")):\n",
        "        # Extract numeric label from filename (assuming consistent naming)\n",
        "        try:\n",
        "            label = int(os.path.basename(file_path).split('_')[1].split('.')[0])\n",
        "            labels.append(label)\n",
        "        except (IndexError, ValueError):\n",
        "            print(f\"Warning: Could not extract label from filename: {file_path}. Skipping this file.\")\n",
        "    return np.array(labels)\n",
        "\n",
        "\n",
        "real_y_train = load_labels_from_directory(y_train_real_path)\n",
        "real_y_train = tf.keras.utils.to_categorical(real_y_train, num_classes=10)\n",
        "\n",
        "\n",
        "# Handle potential size mismatch after removing invalid files\n",
        "if len(real_x_train) != len(real_y_train):\n",
        "    print(\"Warning: Number of images and labels do not match after processing. Adjusting sizes.\")\n",
        "    min_len = min(len(real_x_train), len(real_y_train))\n",
        "    real_x_train = real_x_train[:min_len]\n",
        "    real_y_train = real_y_train[:min_len]\n",
        "\n",
        "\n",
        "# Combine datasets\n",
        "x_train_combined = np.concatenate((x_train, real_x_train), axis=0)\n",
        "y_train_combined = np.concatenate((y_train, real_y_train), axis=0)\n",
        "\n",
        "# Define the CNN model\n",
        "model = models.Sequential([\n",
        "    layers.Conv2D(32, (3, 3), activation='relu', input_shape=(28, 28, 1)),\n",
        "    layers.MaxPooling2D((2, 2)),\n",
        "    layers.Conv2D(64, (3, 3), activation='relu'),\n",
        "    layers.MaxPooling2D((2, 2)),\n",
        "    layers.Flatten(),\n",
        "    layers.Dense(128, activation='relu'),\n",
        "    layers.Dense(10, activation='softmax')\n",
        "])\n",
        "\n",
        "model.compile(optimizer='adam',\n",
        "              loss='categorical_crossentropy',\n",
        "              metrics=['accuracy'])\n",
        "\n",
        "# Training the Model\n",
        "history = model.fit(x_train_combined, y_train_combined, epochs=5, batch_size=32, validation_data=(x_test, y_test))\n",
        "\n",
        "# Visualize Predictions\n",
        "predictions = model.predict(x_test[:10])\n",
        "predicted_labels = np.argmax(predictions, axis=1)\n",
        "actual_labels = np.argmax(y_test[:10], axis=1)\n",
        "\n",
        "plt.figure(figsize=(10, 5))\n",
        "for i in range(10):\n",
        "    plt.subplot(2, 5, i + 1)\n",
        "    plt.imshow(x_test[i].reshape(28, 28), cmap='gray')\n",
        "    plt.title(f\"Predicted: {predicted_labels[i]}\\nActual: {actual_labels[i]}\")\n",
        "    plt.axis('off')\n",
        "plt.tight_layout()\n",
        "plt.show()\n",
        "\n",
        "# Saving the trained model\n",
        "model.save('/content/check_recognition_model.h5')\n",
        "print(\"Model saved successfully!\")"
      ],
      "metadata": {
        "colab": {
          "base_uri": "https://localhost:8080/",
          "height": 740
        },
        "id": "aqoPVLI2zwJ_",
        "outputId": "e44e8f78-d440-4398-a7ab-b668fd5989fe"
      },
      "execution_count": null,
      "outputs": [
        {
          "output_type": "stream",
          "name": "stdout",
          "text": [
            "Epoch 1/5\n",
            "\u001b[1m1875/1875\u001b[0m \u001b[32m━━━━━━━━━━━━━━━━━━━━\u001b[0m\u001b[37m\u001b[0m \u001b[1m66s\u001b[0m 34ms/step - accuracy: 0.9078 - loss: 0.2950 - val_accuracy: 0.9846 - val_loss: 0.0459\n",
            "Epoch 2/5\n",
            "\u001b[1m1875/1875\u001b[0m \u001b[32m━━━━━━━━━━━━━━━━━━━━\u001b[0m\u001b[37m\u001b[0m \u001b[1m82s\u001b[0m 35ms/step - accuracy: 0.9866 - loss: 0.0420 - val_accuracy: 0.9871 - val_loss: 0.0385\n",
            "Epoch 3/5\n",
            "\u001b[1m1875/1875\u001b[0m \u001b[32m━━━━━━━━━━━━━━━━━━━━\u001b[0m\u001b[37m\u001b[0m \u001b[1m81s\u001b[0m 34ms/step - accuracy: 0.9910 - loss: 0.0283 - val_accuracy: 0.9912 - val_loss: 0.0260\n",
            "Epoch 4/5\n",
            "\u001b[1m1875/1875\u001b[0m \u001b[32m━━━━━━━━━━━━━━━━━━━━\u001b[0m\u001b[37m\u001b[0m \u001b[1m64s\u001b[0m 34ms/step - accuracy: 0.9941 - loss: 0.0185 - val_accuracy: 0.9894 - val_loss: 0.0365\n",
            "Epoch 5/5\n",
            "\u001b[1m1875/1875\u001b[0m \u001b[32m━━━━━━━━━━━━━━━━━━━━\u001b[0m\u001b[37m\u001b[0m \u001b[1m82s\u001b[0m 34ms/step - accuracy: 0.9958 - loss: 0.0135 - val_accuracy: 0.9881 - val_loss: 0.0389\n",
            "\u001b[1m1/1\u001b[0m \u001b[32m━━━━━━━━━━━━━━━━━━━━\u001b[0m\u001b[37m\u001b[0m \u001b[1m0s\u001b[0m 73ms/step\n"
          ]
        },
        {
          "output_type": "display_data",
          "data": {
            "text/plain": [
              "<Figure size 1000x500 with 10 Axes>"
            ],
            "image/png": "[encoded data removed]"
          },
          "metadata": {}
        },
        {
          "output_type": "stream",
          "name": "stderr",
          "text": [
            "WARNING:absl:You are saving your model as an HDF5 file via `model.save()` or `keras.saving.save_model(model)`. This file format is considered legacy. We recommend using instead the native Keras format, e.g. `model.save('my_model.keras')` or `keras.saving.save_model(model, 'my_model.keras')`. \n"
          ]
        },
        {
          "output_type": "stream",
          "name": "stdout",
          "text": [
            "Model saved successfully!\n"
          ]
        }
      ]
    }
  ]
}